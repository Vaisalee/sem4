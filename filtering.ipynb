{
 "cells": [
  {
   "cell_type": "code",
   "execution_count": 2,
   "id": "f9e5e876",
   "metadata": {},
   "outputs": [],
   "source": [
    "import cv2 as cv\n",
    "import numpy as np\n",
    "import matplotlib.pyplot as plt"
   ]
  },
  {
   "cell_type": "code",
   "execution_count": 6,
   "id": "304ea105",
   "metadata": {},
   "outputs": [],
   "source": [
    "img=cv.imread('C:/Users/admin/Downloads/purple.jpg')\n",
    "# print(img)\n",
    "kernal=np.ones((6,6),np.float32)/36\n",
    "filter=cv.filter2D(img,-1,kernal)\n",
    "cv.imshow('img',img)\n",
    "cv.imshow('filter2D',filter)\n",
    "cv.waitKey(0)\n",
    "cv.destroyAllWindows()"
   ]
  },
  {
   "cell_type": "code",
   "execution_count": 16,
   "id": "11307e20",
   "metadata": {},
   "outputs": [],
   "source": [
    "img=cv.imread('C:/Users/admin/Downloads/panda.jpg')\n",
    "blur=cv.blur(img,(6,6))\n",
    "cv.imshow('img',img)\n",
    "cv.imshow('filter2D',filter)\n",
    "cv.waitKey(0)\n",
    "cv.destroyAllWindows()\n"
   ]
  },
  {
   "cell_type": "markdown",
   "id": "fa14bb9e",
   "metadata": {},
   "source": [
    "## Gaussian Blur"
   ]
  },
  {
   "cell_type": "code",
   "execution_count": 21,
   "id": "52ec656a",
   "metadata": {},
   "outputs": [],
   "source": [
    "img=cv.imread('C:/Users/admin/Downloads/paris.jpg')\n",
    "Gblur=cv.GaussianBlur(img,(5,5),0)\n",
    "cv.imshow('img',img)\n",
    "cv.imshow('Gaussianblur',Gblur)\n",
    "cv.waitKey(0)\n",
    "cv.destroyAllWindows()"
   ]
  },
  {
   "cell_type": "code",
   "execution_count": 24,
   "id": "c5d2fe17",
   "metadata": {},
   "outputs": [],
   "source": [
    "img=cv.imread('C:/Users/admin/Downloads/noise.jpg')\n",
    "Gblur=cv.GaussianBlur(img,(5,5),0)\n",
    "cv.imshow('img',img)\n",
    "cv.imshow('Gaussianblur',Gblur)\n",
    "cv.waitKey(0)\n",
    "cv.destroyAllWindows()"
   ]
  },
  {
   "cell_type": "markdown",
   "id": "d77e1f32",
   "metadata": {},
   "source": [
    "## Bialateral Filter"
   ]
  },
  {
   "cell_type": "code",
   "execution_count": 30,
   "id": "734d9dcf",
   "metadata": {},
   "outputs": [
    {
     "name": "stdout",
     "output_type": "stream",
     "text": [
      "(180, 273, 3)\n"
     ]
    }
   ],
   "source": [
    "img=cv.imread('C:/Users/admin/Downloads/noise.jpg')\n",
    "print(img.shape)\n",
    "BFilter=cv.bilateralFilter(img,9,50,50)\n",
    "cv.imshow('img',img)\n",
    "cv.imshow('BilateralFilter',BFilter)\n",
    "cv.waitKey(0)\n",
    "cv.destroyAllWindows()"
   ]
  },
  {
   "cell_type": "markdown",
   "id": "70f380cf",
   "metadata": {},
   "source": [
    "## Median filter"
   ]
  },
  {
   "cell_type": "code",
   "execution_count": 35,
   "id": "2e696f2c",
   "metadata": {},
   "outputs": [],
   "source": [
    "img=cv.imread('C:/Users/admin/Downloads/salt&pepper.jpg')\n",
    "medianfilter=cv.medianBlur(img,9)\n",
    "cv.imshow('img',img)\n",
    "cv.imshow('medianBlur',medianfilter)\n",
    "cv.waitKey(0)\n",
    "cv.destroyAllWindows()"
   ]
  },
  {
   "cell_type": "code",
   "execution_count": null,
   "id": "e0dc2def",
   "metadata": {},
   "outputs": [],
   "source": [
    "titles=['img','2d','blur','gaussian','bilateral','median']\n",
    "images=[img,filter,gblur,bilateral,"
   ]
  },
  {
   "cell_type": "markdown",
   "id": "d3912075",
   "metadata": {},
   "source": [
    "# Laplacian filter"
   ]
  },
  {
   "cell_type": "code",
   "execution_count": 16,
   "id": "bc500028",
   "metadata": {},
   "outputs": [],
   "source": [
    "img=cv.imread(\"C:/Users/admin/Downloads/d2.jpg\",0)\n",
    "lap=cv.Laplacian(img,cv.CV_64F,ksize=3)\n",
    "lap=np.uint8(np.absolute(lap))\n",
    "cv.imshow('image',img)\n",
    "cv.imshow('laplacian',lap)\n",
    "cv.waitKey(0)\n",
    "cv.destroyAllWindows()"
   ]
  },
  {
   "cell_type": "markdown",
   "id": "bcfcc54d",
   "metadata": {},
   "source": [
    "# Sobel filter"
   ]
  },
  {
   "cell_type": "code",
   "execution_count": 22,
   "id": "cbc8743a",
   "metadata": {},
   "outputs": [],
   "source": [
    "img=cv.imread(\"C:/Users/admin/Downloads/ferriswheel.jpg\",0)\n",
    "sobelx=cv.Sobel(img,cv.CV_64F,1,0,ksize=3)\n",
    "sobelx=np.uint8(np.absolute(sobelx))\n",
    "cv.imshow('image',img)\n",
    "cv.imshow('sobelx',sobelx)\n",
    "cv.waitKey(0)\n",
    "cv.destroyAllWindows()"
   ]
  },
  {
   "cell_type": "code",
   "execution_count": 23,
   "id": "899b53c3",
   "metadata": {},
   "outputs": [],
   "source": [
    "sobely=cv.Sobel(img,cv.CV_64F,0,1,ksize=3)\n",
    "sobely=np.uint8(np.absolute(sobely))\n",
    "cv.imshow('image',img)\n",
    "cv.imshow('sobely',sobely)\n",
    "cv.waitKey(0)\n",
    "cv.destroyAllWindows()"
   ]
  },
  {
   "cell_type": "code",
   "execution_count": null,
   "id": "a146da3e",
   "metadata": {},
   "outputs": [],
   "source": []
  }
 ],
 "metadata": {
  "kernelspec": {
   "display_name": "Python 3 (ipykernel)",
   "language": "python",
   "name": "python3"
  },
  "language_info": {
   "codemirror_mode": {
    "name": "ipython",
    "version": 3
   },
   "file_extension": ".py",
   "mimetype": "text/x-python",
   "name": "python",
   "nbconvert_exporter": "python",
   "pygments_lexer": "ipython3",
   "version": "3.11.5"
  }
 },
 "nbformat": 4,
 "nbformat_minor": 5
}
