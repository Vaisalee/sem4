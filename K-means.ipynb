{
 "cells": [
  {
   "cell_type": "markdown",
   "id": "3f911cb6",
   "metadata": {},
   "source": [
    "# K-means clustering"
   ]
  },
  {
   "cell_type": "markdown",
   "id": "935ea503",
   "metadata": {},
   "source": [
    "# Importing libraries\n"
   ]
  },
  {
   "cell_type": "code",
   "execution_count": 1,
   "id": "7fdf26dd",
   "metadata": {},
   "outputs": [],
   "source": [
    "import cv2\n",
    "import numpy as np"
   ]
  },
  {
   "cell_type": "markdown",
   "id": "0ab5174b",
   "metadata": {},
   "source": [
    "# Reading images"
   ]
  },
  {
   "cell_type": "code",
   "execution_count": 2,
   "id": "75204ad5",
   "metadata": {},
   "outputs": [
    {
     "data": {
      "text/plain": [
       "array([[[ 34,  50,  56],\n",
       "        [ 35,  51,  57],\n",
       "        [ 37,  53,  59],\n",
       "        ...,\n",
       "        [ 33,  39,  46],\n",
       "        [ 33,  39,  46],\n",
       "        [ 33,  39,  46]],\n",
       "\n",
       "       [[ 34,  50,  56],\n",
       "        [ 35,  51,  57],\n",
       "        [ 37,  53,  59],\n",
       "        ...,\n",
       "        [ 33,  39,  46],\n",
       "        [ 33,  39,  46],\n",
       "        [ 33,  39,  46]],\n",
       "\n",
       "       [[ 34,  50,  56],\n",
       "        [ 36,  52,  58],\n",
       "        [ 37,  53,  59],\n",
       "        ...,\n",
       "        [ 33,  39,  46],\n",
       "        [ 33,  39,  46],\n",
       "        [ 33,  39,  46]],\n",
       "\n",
       "       ...,\n",
       "\n",
       "       [[ 54, 148, 207],\n",
       "        [ 70, 162, 215],\n",
       "        [ 50, 132, 179],\n",
       "        ...,\n",
       "        [140, 163, 219],\n",
       "        [ 28,  48,  95],\n",
       "        [ 34,  49,  88]],\n",
       "\n",
       "       [[ 21, 113, 172],\n",
       "        [ 41, 129, 183],\n",
       "        [ 29, 109, 156],\n",
       "        ...,\n",
       "        [ 89, 113, 167],\n",
       "        [ 19,  37,  84],\n",
       "        [ 32,  45,  83]],\n",
       "\n",
       "       [[  0,  87, 146],\n",
       "        [ 17, 105, 159],\n",
       "        [ 15,  93, 140],\n",
       "        ...,\n",
       "        [102, 126, 180],\n",
       "        [ 17,  36,  81],\n",
       "        [ 39,  52,  90]]], dtype=uint8)"
      ]
     },
     "execution_count": 2,
     "metadata": {},
     "output_type": "execute_result"
    }
   ],
   "source": [
    "img=cv2.imread(\"C:/Users/admin/Downloads/dog.jpg\")\n",
    "img"
   ]
  },
  {
   "cell_type": "markdown",
   "id": "041db1f2",
   "metadata": {},
   "source": [
    "# RGB Conversion"
   ]
  },
  {
   "cell_type": "code",
   "execution_count": 3,
   "id": "d67f4ec4",
   "metadata": {},
   "outputs": [],
   "source": [
    "imgrgb=cv2.cvtColor(img,cv2.COLOR_BGR2RGB)"
   ]
  },
  {
   "cell_type": "markdown",
   "id": "e40eacc5",
   "metadata": {},
   "source": [
    "# Reshape"
   ]
  },
  {
   "cell_type": "code",
   "execution_count": 4,
   "id": "66c04d9a",
   "metadata": {},
   "outputs": [
    {
     "data": {
      "text/plain": [
       "array([[ 56,  50,  34],\n",
       "       [ 57,  51,  35],\n",
       "       [ 59,  53,  37],\n",
       "       ...,\n",
       "       [180, 126, 102],\n",
       "       [ 81,  36,  17],\n",
       "       [ 90,  52,  39]], dtype=uint8)"
      ]
     },
     "execution_count": 4,
     "metadata": {},
     "output_type": "execute_result"
    }
   ],
   "source": [
    "vec=imgrgb.reshape((-1,3))\n",
    "vec"
   ]
  },
  {
   "cell_type": "markdown",
   "id": "b3349041",
   "metadata": {},
   "source": [
    "# Float conversion"
   ]
  },
  {
   "cell_type": "code",
   "execution_count": 5,
   "id": "ecdaeec8",
   "metadata": {},
   "outputs": [
    {
     "data": {
      "text/plain": [
       "array([[ 56.,  50.,  34.],\n",
       "       [ 57.,  51.,  35.],\n",
       "       [ 59.,  53.,  37.],\n",
       "       ...,\n",
       "       [180., 126., 102.],\n",
       "       [ 81.,  36.,  17.],\n",
       "       [ 90.,  52.,  39.]], dtype=float32)"
      ]
     },
     "execution_count": 5,
     "metadata": {},
     "output_type": "execute_result"
    }
   ],
   "source": [
    "vec=np.float32(vec)\n",
    "vec"
   ]
  },
  {
   "cell_type": "markdown",
   "id": "7523e8d6",
   "metadata": {},
   "source": [
    "# Iteration Termination Criteria"
   ]
  },
  {
   "cell_type": "code",
   "execution_count": 6,
   "id": "e8224126",
   "metadata": {},
   "outputs": [],
   "source": [
    "criteria=(cv2.TERM_CRITERIA_EPS + cv2.TERM_CRITERIA_MAX_ITER,100,1)"
   ]
  },
  {
   "cell_type": "markdown",
   "id": "27430ef4",
   "metadata": {},
   "source": [
    "# Cluster conditions"
   ]
  },
  {
   "cell_type": "code",
   "execution_count": 7,
   "id": "9a1eca5b",
   "metadata": {},
   "outputs": [],
   "source": [
    "k = 3\n",
    "attempts=100"
   ]
  },
  {
   "cell_type": "markdown",
   "id": "fc57128e",
   "metadata": {},
   "source": [
    "# K-means Clustering"
   ]
  },
  {
   "cell_type": "code",
   "execution_count": 8,
   "id": "95aa4f3f",
   "metadata": {},
   "outputs": [
    {
     "data": {
      "text/plain": [
       "array([[ 76.54822 ,  56.325275,  36.86668 ],\n",
       "       [242.03741 , 192.91129 , 143.65546 ],\n",
       "       [177.2623  , 115.73308 ,  79.07251 ]], dtype=float32)"
      ]
     },
     "execution_count": 8,
     "metadata": {},
     "output_type": "execute_result"
    }
   ],
   "source": [
    "compactness,label,center=cv2.kmeans(vec,k,None,criteria,attempts,cv2.KMEANS_PP_CENTERS)\n",
    "center"
   ]
  },
  {
   "cell_type": "markdown",
   "id": "66833aab",
   "metadata": {},
   "source": [
    "# unit conversion"
   ]
  },
  {
   "cell_type": "code",
   "execution_count": 9,
   "id": "ac15a4e4",
   "metadata": {},
   "outputs": [
    {
     "data": {
      "text/plain": [
       "array([[ 76,  56,  36],\n",
       "       [242, 192, 143],\n",
       "       [177, 115,  79]], dtype=uint8)"
      ]
     },
     "execution_count": 9,
     "metadata": {},
     "output_type": "execute_result"
    }
   ],
   "source": [
    "center=np.uint8(center)\n",
    "center"
   ]
  },
  {
   "cell_type": "markdown",
   "id": "4dbb0a38",
   "metadata": {},
   "source": [
    "# flattening and reshape"
   ]
  },
  {
   "cell_type": "code",
   "execution_count": 10,
   "id": "b9e6f724",
   "metadata": {},
   "outputs": [
    {
     "data": {
      "text/plain": [
       "array([[[ 76,  56,  36],\n",
       "        [ 76,  56,  36],\n",
       "        [ 76,  56,  36],\n",
       "        ...,\n",
       "        [ 76,  56,  36],\n",
       "        [ 76,  56,  36],\n",
       "        [ 76,  56,  36]],\n",
       "\n",
       "       [[ 76,  56,  36],\n",
       "        [ 76,  56,  36],\n",
       "        [ 76,  56,  36],\n",
       "        ...,\n",
       "        [ 76,  56,  36],\n",
       "        [ 76,  56,  36],\n",
       "        [ 76,  56,  36]],\n",
       "\n",
       "       [[ 76,  56,  36],\n",
       "        [ 76,  56,  36],\n",
       "        [ 76,  56,  36],\n",
       "        ...,\n",
       "        [ 76,  56,  36],\n",
       "        [ 76,  56,  36],\n",
       "        [ 76,  56,  36]],\n",
       "\n",
       "       ...,\n",
       "\n",
       "       [[177, 115,  79],\n",
       "        [177, 115,  79],\n",
       "        [177, 115,  79],\n",
       "        ...,\n",
       "        [242, 192, 143],\n",
       "        [ 76,  56,  36],\n",
       "        [ 76,  56,  36]],\n",
       "\n",
       "       [[177, 115,  79],\n",
       "        [177, 115,  79],\n",
       "        [177, 115,  79],\n",
       "        ...,\n",
       "        [177, 115,  79],\n",
       "        [ 76,  56,  36],\n",
       "        [ 76,  56,  36]],\n",
       "\n",
       "       [[ 76,  56,  36],\n",
       "        [177, 115,  79],\n",
       "        [ 76,  56,  36],\n",
       "        ...,\n",
       "        [177, 115,  79],\n",
       "        [ 76,  56,  36],\n",
       "        [ 76,  56,  36]]], dtype=uint8)"
      ]
     },
     "execution_count": 10,
     "metadata": {},
     "output_type": "execute_result"
    }
   ],
   "source": [
    "res=center[label.flatten()]\n",
    "res_img=res.reshape((imgrgb.shape))\n",
    "res_img"
   ]
  },
  {
   "cell_type": "markdown",
   "id": "e863dce4",
   "metadata": {},
   "source": [
    "# original and segmented image"
   ]
  },
  {
   "cell_type": "code",
   "execution_count": 11,
   "id": "20879167",
   "metadata": {},
   "outputs": [],
   "source": [
    "cv2.imshow('original',img)\n",
    "cv2.imshow('segmented',res_img)\n",
    "cv2.waitKey(0)\n",
    "cv2.destroyAllWindows()"
   ]
  },
  {
   "cell_type": "code",
   "execution_count": null,
   "id": "7710f8cc",
   "metadata": {},
   "outputs": [],
   "source": []
  },
  {
   "cell_type": "code",
   "execution_count": null,
   "id": "e8f14827",
   "metadata": {},
   "outputs": [],
   "source": []
  }
 ],
 "metadata": {
  "kernelspec": {
   "display_name": "Python 3 (ipykernel)",
   "language": "python",
   "name": "python3"
  },
  "language_info": {
   "codemirror_mode": {
    "name": "ipython",
    "version": 3
   },
   "file_extension": ".py",
   "mimetype": "text/x-python",
   "name": "python",
   "nbconvert_exporter": "python",
   "pygments_lexer": "ipython3",
   "version": "3.11.5"
  }
 },
 "nbformat": 4,
 "nbformat_minor": 5
}
