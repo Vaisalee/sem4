{
 "cells": [
  {
   "cell_type": "code",
   "execution_count": 14,
   "id": "67a16ad9",
   "metadata": {},
   "outputs": [],
   "source": [
    "import numpy as np\n",
    "import cv2 as cv"
   ]
  },
  {
   "cell_type": "markdown",
   "id": "5a02b3f5",
   "metadata": {},
   "source": [
    "# canny edge"
   ]
  },
  {
   "cell_type": "code",
   "execution_count": 15,
   "id": "b427eeb2",
   "metadata": {},
   "outputs": [],
   "source": [
    "image=cv2.imread(\"C:/Users/admin/Downloads/pandaa.jpg\",0)"
   ]
  },
  {
   "cell_type": "code",
   "execution_count": 17,
   "id": "0a7a1b3b",
   "metadata": {},
   "outputs": [],
   "source": [
    "canny=cv2.Canny(image,40,200)"
   ]
  },
  {
   "cell_type": "markdown",
   "id": "27b76292",
   "metadata": {},
   "source": [
    "# Display"
   ]
  },
  {
   "cell_type": "code",
   "execution_count": 18,
   "id": "4916da15",
   "metadata": {},
   "outputs": [],
   "source": [
    "cv2.imshow('ORG',image)\n",
    "cv2.imshow('CAN',canny)\n",
    "cv2.waitKey(0)\n",
    "cv2.destroyAllWindows()"
   ]
  },
  {
   "cell_type": "code",
   "execution_count": null,
   "id": "d629bf0b",
   "metadata": {},
   "outputs": [],
   "source": []
  }
 ],
 "metadata": {
  "kernelspec": {
   "display_name": "Python 3 (ipykernel)",
   "language": "python",
   "name": "python3"
  },
  "language_info": {
   "codemirror_mode": {
    "name": "ipython",
    "version": 3
   },
   "file_extension": ".py",
   "mimetype": "text/x-python",
   "name": "python",
   "nbconvert_exporter": "python",
   "pygments_lexer": "ipython3",
   "version": "3.11.5"
  }
 },
 "nbformat": 4,
 "nbformat_minor": 5
}
