{
 "cells": [
  {
   "cell_type": "code",
   "execution_count": 2,
   "id": "deb3900d",
   "metadata": {},
   "outputs": [],
   "source": [
    "import cv2\n",
    "import numpy as np"
   ]
  },
  {
   "cell_type": "markdown",
   "id": "84b6b8f0",
   "metadata": {},
   "source": [
    "# webcam capture"
   ]
  },
  {
   "cell_type": "code",
   "execution_count": 3,
   "id": "36239792",
   "metadata": {},
   "outputs": [],
   "source": [
    "vid=cv2.VideoCapture(0)"
   ]
  },
  {
   "cell_type": "markdown",
   "id": "9ed140cf",
   "metadata": {},
   "source": [
    "# webcam display"
   ]
  },
  {
   "cell_type": "code",
   "execution_count": 4,
   "id": "348afb07",
   "metadata": {},
   "outputs": [],
   "source": [
    "while(vid.isOpened()):\n",
    "    ret,frame=vid.read()\n",
    "    gray=cv2.cvtColor(frame,cv2.COLOR_BGR2GRAY)\n",
    "    cv2.imshow('video',frame)\n",
    "    cv2.imshow('gray',gray)\n",
    "    if cv2.waitKey(1)&0xFF==ord('q'):\n",
    "        break\n",
    "vid.release()\n",
    "cv2.destroyAllWindows()"
   ]
  },
  {
   "cell_type": "code",
   "execution_count": 7,
   "id": "a03334a5",
   "metadata": {},
   "outputs": [],
   "source": [
    "fourcc=cv2.VideoWriter_fourcc(*'mp4v')"
   ]
  },
  {
   "cell_type": "code",
   "execution_count": 8,
   "id": "1a28278a",
   "metadata": {},
   "outputs": [],
   "source": [
    "wrt=cv2.VideoWriter('cartoon.mp4',fourcc,50.0,(640,480))"
   ]
  },
  {
   "cell_type": "code",
   "execution_count": 9,
   "id": "3eba02fe",
   "metadata": {},
   "outputs": [],
   "source": [
    "while(vid.isOpened()):\n",
    "    ret,frame=vid.read()\n",
    "    wrt.write(frame)\n",
    "    cv2.imshow('frame',frame)\n",
    "    if cv2.waitKey(1)&0xFF==ord('e'):\n",
    "        break\n",
    "vid.release()\n",
    "cv2.destroyAllWindows()"
   ]
  },
  {
   "cell_type": "code",
   "execution_count": null,
   "id": "02c7d1ae",
   "metadata": {},
   "outputs": [],
   "source": []
  }
 ],
 "metadata": {
  "kernelspec": {
   "display_name": "Python 3 (ipykernel)",
   "language": "python",
   "name": "python3"
  },
  "language_info": {
   "codemirror_mode": {
    "name": "ipython",
    "version": 3
   },
   "file_extension": ".py",
   "mimetype": "text/x-python",
   "name": "python",
   "nbconvert_exporter": "python",
   "pygments_lexer": "ipython3",
   "version": "3.11.5"
  }
 },
 "nbformat": 4,
 "nbformat_minor": 5
}
