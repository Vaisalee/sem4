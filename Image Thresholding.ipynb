{
 "cells": [
  {
   "cell_type": "code",
   "execution_count": 3,
   "id": "336a6b4a",
   "metadata": {},
   "outputs": [],
   "source": [
    "import cv2\n",
    "import numpy as np"
   ]
  },
  {
   "cell_type": "code",
   "execution_count": 4,
   "id": "21022ed2",
   "metadata": {},
   "outputs": [],
   "source": [
    "im1=cv2.imread(\"C:/Users/admin/Downloads/BTS V.jpg\",0)"
   ]
  },
  {
   "cell_type": "code",
   "execution_count": 5,
   "id": "2313db48",
   "metadata": {},
   "outputs": [],
   "source": [
    "im3=cv2.resize(im1,(300,300))"
   ]
  },
  {
   "cell_type": "code",
   "execution_count": 6,
   "id": "1fcde50e",
   "metadata": {},
   "outputs": [],
   "source": [
    "cv2.imshow(\"im1\",im3)\n",
    "cv2.waitKey(0)\n",
    "cv2.destroyAllWindows()"
   ]
  },
  {
   "cell_type": "code",
   "execution_count": 7,
   "id": "ff5d95fc",
   "metadata": {},
   "outputs": [
    {
     "data": {
      "text/plain": [
       "array([[175, 176, 173, ...,  59,  59,  59],\n",
       "       [167, 169, 169, ...,  59,  59,  59],\n",
       "       [169, 173, 173, ...,  59,  59,  59],\n",
       "       ...,\n",
       "       [ 24,  22,  38, ..., 107, 104, 101],\n",
       "       [ 23,  27,  81, ..., 106, 102,  95],\n",
       "       [ 30,  38, 107, ..., 101,  82,  77]], dtype=uint8)"
      ]
     },
     "execution_count": 7,
     "metadata": {},
     "output_type": "execute_result"
    }
   ],
   "source": [
    "im3"
   ]
  },
  {
   "cell_type": "code",
   "execution_count": 8,
   "id": "eaf0b9dc",
   "metadata": {},
   "outputs": [],
   "source": [
    "ret,thres=cv2.threshold(im3,170,80,cv2.THRESH_BINARY)"
   ]
  },
  {
   "cell_type": "code",
   "execution_count": 9,
   "id": "b24b3233",
   "metadata": {},
   "outputs": [
    {
     "name": "stdout",
     "output_type": "stream",
     "text": [
      "170.0\n"
     ]
    }
   ],
   "source": [
    "print(ret)"
   ]
  },
  {
   "cell_type": "code",
   "execution_count": 10,
   "id": "40414e31",
   "metadata": {},
   "outputs": [
    {
     "data": {
      "text/plain": [
       "array([[80, 80, 80, ...,  0,  0,  0],\n",
       "       [ 0,  0,  0, ...,  0,  0,  0],\n",
       "       [ 0, 80, 80, ...,  0,  0,  0],\n",
       "       ...,\n",
       "       [ 0,  0,  0, ...,  0,  0,  0],\n",
       "       [ 0,  0,  0, ...,  0,  0,  0],\n",
       "       [ 0,  0,  0, ...,  0,  0,  0]], dtype=uint8)"
      ]
     },
     "execution_count": 10,
     "metadata": {},
     "output_type": "execute_result"
    }
   ],
   "source": [
    "thres"
   ]
  },
  {
   "cell_type": "code",
   "execution_count": 11,
   "id": "4d3c686b",
   "metadata": {},
   "outputs": [],
   "source": [
    "cv2.imshow(\"thres\",thres)\n",
    "cv2.waitKey(0)\n",
    "cv2.destroyAllWindows()"
   ]
  },
  {
   "cell_type": "markdown",
   "id": "64a56267",
   "metadata": {},
   "source": [
    "syntax:\n",
    "    ret,varname=cv2.threshold(inputimage,threshold limit,replace value,<threshold type>)"
   ]
  },
  {
   "cell_type": "code",
   "execution_count": 12,
   "id": "026dd5a6",
   "metadata": {},
   "outputs": [],
   "source": [
    "ret,thres1=cv2.threshold(im3,170,80,cv2.THRESH_BINARY)\n",
    "ret,thres2=cv2.threshold(im3,170,80,cv2.THRESH_BINARY_INV)\n",
    "ret,thres3=cv2.threshold(im3,170,80,cv2.THRESH_TRUNC)\n",
    "ret,thres4=cv2.threshold(im3,170,80,cv2.THRESH_TOZERO)\n",
    "ret,thres5=cv2.threshold(im3,170,80,cv2.THRESH_TOZERO_INV)\n"
   ]
  },
  {
   "cell_type": "code",
   "execution_count": 13,
   "id": "7e1c2325",
   "metadata": {},
   "outputs": [],
   "source": [
    "cv2.imshow(\"thres_1\",thres1)\n",
    "cv2.waitKey(0)\n",
    "cv2.imshow(\"thres_2\",thres2)\n",
    "cv2.waitKey(0)\n",
    "cv2.imshow(\"thres_3\",thres3)\n",
    "cv2.waitKey(0)\n",
    "cv2.imshow(\"thres_4\",thres4)\n",
    "cv2.waitKey(0)\n",
    "cv2.imshow(\"thres_5\",thres5)\n",
    "cv2.waitKey(0)\n",
    "cv2.destroyAllWindows()"
   ]
  },
  {
   "cell_type": "code",
   "execution_count": null,
   "id": "4e697974",
   "metadata": {},
   "outputs": [],
   "source": []
  }
 ],
 "metadata": {
  "kernelspec": {
   "display_name": "Python 3 (ipykernel)",
   "language": "python",
   "name": "python3"
  },
  "language_info": {
   "codemirror_mode": {
    "name": "ipython",
    "version": 3
   },
   "file_extension": ".py",
   "mimetype": "text/x-python",
   "name": "python",
   "nbconvert_exporter": "python",
   "pygments_lexer": "ipython3",
   "version": "3.11.5"
  }
 },
 "nbformat": 4,
 "nbformat_minor": 5
}
