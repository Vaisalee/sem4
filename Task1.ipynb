{
 "cells": [
  {
   "cell_type": "code",
   "execution_count": 1,
   "id": "8d7c28f3",
   "metadata": {},
   "outputs": [],
   "source": [
    "import numpy as np"
   ]
  },
  {
   "cell_type": "code",
   "execution_count": 2,
   "id": "0df1e7b1",
   "metadata": {},
   "outputs": [],
   "source": [
    "import cv2"
   ]
  },
  {
   "cell_type": "code",
   "execution_count": 3,
   "id": "bf7698d2",
   "metadata": {},
   "outputs": [],
   "source": [
    "im1=cv2.imread(\"C:/Users/admin/Downloads/OIP (1).jpg\")"
   ]
  },
  {
   "cell_type": "code",
   "execution_count": null,
   "id": "c1786ab7",
   "metadata": {},
   "outputs": [],
   "source": [
    "im1"
   ]
  },
  {
   "cell_type": "code",
   "execution_count": null,
   "id": "832c756d",
   "metadata": {},
   "outputs": [],
   "source": [
    "cv2.imshow(\"w1\",im1)\n",
    "cv2.waitKey(0)\n",
    "cv2.destroyAceWindow()     "
   ]
  },
  {
   "cell_type": "code",
   "execution_count": 6,
   "id": "d096df3b",
   "metadata": {},
   "outputs": [
    {
     "data": {
      "text/plain": [
       "True"
      ]
     },
     "execution_count": 6,
     "metadata": {},
     "output_type": "execute_result"
    }
   ],
   "source": [
    "cv2.imwrite(\"C:/Users/admin/Desktop/OIP (1).jpg\",im1)"
   ]
  },
  {
   "cell_type": "code",
   "execution_count": 7,
   "id": "54b844fd",
   "metadata": {},
   "outputs": [],
   "source": [
    "shp=im1.shape"
   ]
  },
  {
   "cell_type": "code",
   "execution_count": 8,
   "id": "8c63c77b",
   "metadata": {},
   "outputs": [
    {
     "name": "stdout",
     "output_type": "stream",
     "text": [
      "(180, 240, 3)\n"
     ]
    }
   ],
   "source": [
    "print(shp)"
   ]
  },
  {
   "cell_type": "code",
   "execution_count": 10,
   "id": "9c8702b3",
   "metadata": {},
   "outputs": [],
   "source": [
    "sz=im1.size"
   ]
  },
  {
   "cell_type": "code",
   "execution_count": 12,
   "id": "ac36ec48",
   "metadata": {},
   "outputs": [
    {
     "name": "stdout",
     "output_type": "stream",
     "text": [
      "129600\n"
     ]
    }
   ],
   "source": [
    "print(sz)"
   ]
  },
  {
   "cell_type": "code",
   "execution_count": 13,
   "id": "376bc94d",
   "metadata": {},
   "outputs": [],
   "source": [
    "px=im1[20,20]"
   ]
  },
  {
   "cell_type": "code",
   "execution_count": 14,
   "id": "e18fd526",
   "metadata": {},
   "outputs": [
    {
     "data": {
      "text/plain": [
       "array([ 0, 23,  8], dtype=uint8)"
      ]
     },
     "execution_count": 14,
     "metadata": {},
     "output_type": "execute_result"
    }
   ],
   "source": [
    "px"
   ]
  },
  {
   "cell_type": "code",
   "execution_count": 15,
   "id": "2d96f602",
   "metadata": {},
   "outputs": [],
   "source": [
    "roi=im1[5:15]"
   ]
  },
  {
   "cell_type": "code",
   "execution_count": null,
   "id": "992c0b64",
   "metadata": {},
   "outputs": [],
   "source": []
  }
 ],
 "metadata": {
  "kernelspec": {
   "display_name": "Python 3 (ipykernel)",
   "language": "python",
   "name": "python3"
  },
  "language_info": {
   "codemirror_mode": {
    "name": "ipython",
    "version": 3
   },
   "file_extension": ".py",
   "mimetype": "text/x-python",
   "name": "python",
   "nbconvert_exporter": "python",
   "pygments_lexer": "ipython3",
   "version": "3.11.5"
  }
 },
 "nbformat": 4,
 "nbformat_minor": 5
}
