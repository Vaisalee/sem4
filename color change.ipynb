{
 "cells": [
  {
   "cell_type": "code",
   "execution_count": 1,
   "id": "e3523228",
   "metadata": {},
   "outputs": [],
   "source": [
    "import cv2\n",
    "import numpy as np"
   ]
  },
  {
   "cell_type": "code",
   "execution_count": 2,
   "id": "8317df60",
   "metadata": {},
   "outputs": [],
   "source": [
    "im1=cv2.imread(\"C:/Users/admin/Desktop/OIP (1).jpg\")"
   ]
  },
  {
   "cell_type": "code",
   "execution_count": 3,
   "id": "19dd31a3",
   "metadata": {},
   "outputs": [
    {
     "name": "stdout",
     "output_type": "stream",
     "text": [
      "(180, 240, 3)\n"
     ]
    }
   ],
   "source": [
    "print(im1.shape)"
   ]
  },
  {
   "cell_type": "code",
   "execution_count": 8,
   "id": "22817f73",
   "metadata": {},
   "outputs": [
    {
     "name": "stdout",
     "output_type": "stream",
     "text": [
      "129600\n"
     ]
    }
   ],
   "source": [
    "print(im1.size)"
   ]
  },
  {
   "cell_type": "code",
   "execution_count": 9,
   "id": "5004b703",
   "metadata": {},
   "outputs": [],
   "source": [
    "im1_resized=cv2.resize(im1,(250,250))"
   ]
  },
  {
   "cell_type": "code",
   "execution_count": 10,
   "id": "b30c9049",
   "metadata": {},
   "outputs": [
    {
     "name": "stdout",
     "output_type": "stream",
     "text": [
      "(250, 250, 3)\n"
     ]
    }
   ],
   "source": [
    "print(im1_resized.shape)"
   ]
  },
  {
   "cell_type": "code",
   "execution_count": 12,
   "id": "5cb37bc3",
   "metadata": {},
   "outputs": [],
   "source": [
    "cv2.imshow(\"Img1\",im1)\n",
    "cv2.imshow(\"Img2\",im1_resized)\n",
    "cv2.waitKey(0)\n",
    "cv2.destroyAllWindows()"
   ]
  },
  {
   "cell_type": "markdown",
   "id": "a2b3a002",
   "metadata": {},
   "source": [
    "# color space changing"
   ]
  },
  {
   "cell_type": "code",
   "execution_count": 15,
   "id": "7287006f",
   "metadata": {},
   "outputs": [],
   "source": [
    "colors_avl=[i for i in dir(cv2) if i.startswith(\"COLOR_BGR\")]"
   ]
  },
  {
   "cell_type": "code",
   "execution_count": 16,
   "id": "70f0859e",
   "metadata": {},
   "outputs": [
    {
     "data": {
      "text/plain": [
       "['COLOR_BGR2BGR555',\n",
       " 'COLOR_BGR2BGR565',\n",
       " 'COLOR_BGR2BGRA',\n",
       " 'COLOR_BGR2GRAY',\n",
       " 'COLOR_BGR2HLS',\n",
       " 'COLOR_BGR2HLS_FULL',\n",
       " 'COLOR_BGR2HSV',\n",
       " 'COLOR_BGR2HSV_FULL',\n",
       " 'COLOR_BGR2LAB',\n",
       " 'COLOR_BGR2LUV',\n",
       " 'COLOR_BGR2Lab',\n",
       " 'COLOR_BGR2Luv',\n",
       " 'COLOR_BGR2RGB',\n",
       " 'COLOR_BGR2RGBA',\n",
       " 'COLOR_BGR2XYZ',\n",
       " 'COLOR_BGR2YCR_CB',\n",
       " 'COLOR_BGR2YCrCb',\n",
       " 'COLOR_BGR2YUV',\n",
       " 'COLOR_BGR2YUV_I420',\n",
       " 'COLOR_BGR2YUV_IYUV',\n",
       " 'COLOR_BGR2YUV_UYNV',\n",
       " 'COLOR_BGR2YUV_UYVY',\n",
       " 'COLOR_BGR2YUV_Y422',\n",
       " 'COLOR_BGR2YUV_YUNV',\n",
       " 'COLOR_BGR2YUV_YUY2',\n",
       " 'COLOR_BGR2YUV_YUYV',\n",
       " 'COLOR_BGR2YUV_YV12',\n",
       " 'COLOR_BGR2YUV_YVYU',\n",
       " 'COLOR_BGR5552BGR',\n",
       " 'COLOR_BGR5552BGRA',\n",
       " 'COLOR_BGR5552GRAY',\n",
       " 'COLOR_BGR5552RGB',\n",
       " 'COLOR_BGR5552RGBA',\n",
       " 'COLOR_BGR5652BGR',\n",
       " 'COLOR_BGR5652BGRA',\n",
       " 'COLOR_BGR5652GRAY',\n",
       " 'COLOR_BGR5652RGB',\n",
       " 'COLOR_BGR5652RGBA',\n",
       " 'COLOR_BGRA2BGR',\n",
       " 'COLOR_BGRA2BGR555',\n",
       " 'COLOR_BGRA2BGR565',\n",
       " 'COLOR_BGRA2GRAY',\n",
       " 'COLOR_BGRA2RGB',\n",
       " 'COLOR_BGRA2RGBA',\n",
       " 'COLOR_BGRA2YUV_I420',\n",
       " 'COLOR_BGRA2YUV_IYUV',\n",
       " 'COLOR_BGRA2YUV_UYNV',\n",
       " 'COLOR_BGRA2YUV_UYVY',\n",
       " 'COLOR_BGRA2YUV_Y422',\n",
       " 'COLOR_BGRA2YUV_YUNV',\n",
       " 'COLOR_BGRA2YUV_YUY2',\n",
       " 'COLOR_BGRA2YUV_YUYV',\n",
       " 'COLOR_BGRA2YUV_YV12',\n",
       " 'COLOR_BGRA2YUV_YVYU']"
      ]
     },
     "execution_count": 16,
     "metadata": {},
     "output_type": "execute_result"
    }
   ],
   "source": [
    "colors_avl"
   ]
  },
  {
   "cell_type": "code",
   "execution_count": 19,
   "id": "4165f5be",
   "metadata": {},
   "outputs": [],
   "source": [
    "im3=cv2.cvtColor(im1,cv2.COLOR_BGR2HSV)"
   ]
  },
  {
   "cell_type": "code",
   "execution_count": null,
   "id": "961043d3",
   "metadata": {},
   "outputs": [],
   "source": [
    "cv2.imshow(\"Img1\",im1)\n",
    "cv2.imshow(\"Img2\",im3)\n",
    "cv2.waitKey(0)\n",
    "cv2.destroyAllWindows()"
   ]
  },
  {
   "cell_type": "code",
   "execution_count": null,
   "id": "effbd8ff",
   "metadata": {},
   "outputs": [],
   "source": []
  }
 ],
 "metadata": {
  "kernelspec": {
   "display_name": "Python 3 (ipykernel)",
   "language": "python",
   "name": "python3"
  },
  "language_info": {
   "codemirror_mode": {
    "name": "ipython",
    "version": 3
   },
   "file_extension": ".py",
   "mimetype": "text/x-python",
   "name": "python",
   "nbconvert_exporter": "python",
   "pygments_lexer": "ipython3",
   "version": "3.11.5"
  }
 },
 "nbformat": 4,
 "nbformat_minor": 5
}
