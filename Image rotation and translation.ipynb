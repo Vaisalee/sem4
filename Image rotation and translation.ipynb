{
 "cells": [
  {
   "cell_type": "markdown",
   "id": "a9fe1da9",
   "metadata": {},
   "source": [
    "#  Image rotation and translation"
   ]
  },
  {
   "cell_type": "code",
   "execution_count": 2,
   "id": "65c50211",
   "metadata": {},
   "outputs": [],
   "source": [
    "import cv2"
   ]
  },
  {
   "cell_type": "code",
   "execution_count": 3,
   "id": "054942d2",
   "metadata": {},
   "outputs": [],
   "source": [
    "import numpy as np"
   ]
  },
  {
   "cell_type": "code",
   "execution_count": 4,
   "id": "fd9a3cef",
   "metadata": {},
   "outputs": [],
   "source": [
    "im1=cv2.imread(\"C:/Users/admin/Downloads/purple.jpg\")"
   ]
  },
  {
   "cell_type": "code",
   "execution_count": 5,
   "id": "36d73406",
   "metadata": {},
   "outputs": [
    {
     "data": {
      "text/plain": [
       "array([[[ 50,  42,  49],\n",
       "        [ 50,  42,  49],\n",
       "        [ 50,  42,  49],\n",
       "        ...,\n",
       "        [ 46, 114,  55],\n",
       "        [ 46, 114,  55],\n",
       "        [ 46, 114,  55]],\n",
       "\n",
       "       [[ 50,  42,  49],\n",
       "        [ 50,  42,  49],\n",
       "        [ 50,  42,  49],\n",
       "        ...,\n",
       "        [ 46, 114,  55],\n",
       "        [ 46, 114,  55],\n",
       "        [ 46, 114,  55]],\n",
       "\n",
       "       [[ 50,  42,  49],\n",
       "        [ 50,  42,  49],\n",
       "        [ 50,  42,  49],\n",
       "        ...,\n",
       "        [ 46, 114,  55],\n",
       "        [ 46, 114,  55],\n",
       "        [ 46, 114,  55]],\n",
       "\n",
       "       ...,\n",
       "\n",
       "       [[ 45,  34,  44],\n",
       "        [ 45,  34,  44],\n",
       "        [ 46,  35,  45],\n",
       "        ...,\n",
       "        [ 47,  36,  46],\n",
       "        [ 47,  36,  46],\n",
       "        [ 50,  35,  43]],\n",
       "\n",
       "       [[ 45,  34,  44],\n",
       "        [ 45,  34,  44],\n",
       "        [ 45,  34,  44],\n",
       "        ...,\n",
       "        [ 47,  36,  46],\n",
       "        [ 47,  36,  46],\n",
       "        [ 48,  35,  43]],\n",
       "\n",
       "       [[ 47,  33,  44],\n",
       "        [ 47,  33,  44],\n",
       "        [ 47,  33,  44],\n",
       "        ...,\n",
       "        [ 45,  34,  44],\n",
       "        [ 45,  34,  44],\n",
       "        [ 45,  34,  42]]], dtype=uint8)"
      ]
     },
     "execution_count": 5,
     "metadata": {},
     "output_type": "execute_result"
    }
   ],
   "source": [
    "im1"
   ]
  },
  {
   "cell_type": "code",
   "execution_count": 6,
   "id": "40026ead",
   "metadata": {},
   "outputs": [
    {
     "name": "stdout",
     "output_type": "stream",
     "text": [
      "(225, 225, 3)\n"
     ]
    }
   ],
   "source": [
    "shp=im1.shape\n",
    "print(shp)"
   ]
  },
  {
   "cell_type": "code",
   "execution_count": 7,
   "id": "7b2f8f0c",
   "metadata": {},
   "outputs": [
    {
     "name": "stdout",
     "output_type": "stream",
     "text": [
      "225\n",
      "225\n"
     ]
    }
   ],
   "source": [
    "height,width=im1.shape[:2]\n",
    "print(height)\n",
    "print(width)"
   ]
  },
  {
   "cell_type": "code",
   "execution_count": 8,
   "id": "ac69c21f",
   "metadata": {},
   "outputs": [
    {
     "data": {
      "text/plain": [
       "(112.5, 112.5)"
      ]
     },
     "execution_count": 8,
     "metadata": {},
     "output_type": "execute_result"
    }
   ],
   "source": [
    "cent=(height/2,width/2)\n",
    "cent"
   ]
  },
  {
   "cell_type": "code",
   "execution_count": 9,
   "id": "e2b43b6d",
   "metadata": {},
   "outputs": [],
   "source": [
    "rotation_matrix=cv2.getRotationMatrix2D(center=cent,angle=25,scale=0.5)"
   ]
  },
  {
   "cell_type": "code",
   "execution_count": 10,
   "id": "190bcc39",
   "metadata": {},
   "outputs": [
    {
     "name": "stdout",
     "output_type": "stream",
     "text": [
      "[[ 0.45315389  0.21130913 37.74790976]\n",
      " [-0.21130913  0.45315389 85.2924642 ]]\n"
     ]
    }
   ],
   "source": [
    "print(rotation_matrix)"
   ]
  },
  {
   "cell_type": "code",
   "execution_count": 11,
   "id": "495b174d",
   "metadata": {},
   "outputs": [],
   "source": [
    "rotated_im=cv2.warpAffine(src=im1,M=rotation_matrix,dsize=(width,height))"
   ]
  },
  {
   "cell_type": "code",
   "execution_count": 12,
   "id": "3d8daedf",
   "metadata": {},
   "outputs": [],
   "source": [
    "cv2.imshow('original image',im1)\n",
    "cv2.waitKey(0)\n",
    "cv2.imshow('rotated image',rotated_im)\n",
    "cv2.waitKey(0)\n",
    "cv2.destroyAllWindows()"
   ]
  },
  {
   "cell_type": "markdown",
   "id": "5fa3f13b",
   "metadata": {},
   "source": [
    "# translation matrix"
   ]
  },
  {
   "cell_type": "code",
   "execution_count": 13,
   "id": "ddd687f9",
   "metadata": {},
   "outputs": [],
   "source": [
    "tx,ty=width/2,height/2\n"
   ]
  },
  {
   "cell_type": "code",
   "execution_count": 14,
   "id": "bdb92eb9",
   "metadata": {},
   "outputs": [],
   "source": [
    "Translation_matrix=np.array([[1,0,tx],[0,1,ty]])"
   ]
  },
  {
   "cell_type": "code",
   "execution_count": 15,
   "id": "f0d5416e",
   "metadata": {},
   "outputs": [
    {
     "data": {
      "text/plain": [
       "array([[  1. ,   0. , 112.5],\n",
       "       [  0. ,   1. , 112.5]])"
      ]
     },
     "execution_count": 15,
     "metadata": {},
     "output_type": "execute_result"
    }
   ],
   "source": [
    "Translation_matrix"
   ]
  },
  {
   "cell_type": "code",
   "execution_count": 16,
   "id": "82a226e9",
   "metadata": {},
   "outputs": [],
   "source": [
    "Trans_im=cv2.warpAffine(src=im1,M=Translation_matrix,dsize=(width,height))"
   ]
  },
  {
   "cell_type": "code",
   "execution_count": 17,
   "id": "c02f0204",
   "metadata": {},
   "outputs": [],
   "source": [
    "cv2.imshow('original image',im1)\n",
    "cv2.waitKey(0)\n",
    "cv2.imshow('Transimage',Trans_im)\n",
    "cv2.waitKey(0)\n",
    "cv2.destroyAllWindows()"
   ]
  },
  {
   "cell_type": "code",
   "execution_count": null,
   "id": "a82bf531",
   "metadata": {},
   "outputs": [],
   "source": []
  }
 ],
 "metadata": {
  "kernelspec": {
   "display_name": "Python 3 (ipykernel)",
   "language": "python",
   "name": "python3"
  },
  "language_info": {
   "codemirror_mode": {
    "name": "ipython",
    "version": 3
   },
   "file_extension": ".py",
   "mimetype": "text/x-python",
   "name": "python",
   "nbconvert_exporter": "python",
   "pygments_lexer": "ipython3",
   "version": "3.11.5"
  }
 },
 "nbformat": 4,
 "nbformat_minor": 5
}
