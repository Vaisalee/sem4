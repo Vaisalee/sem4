{
 "cells": [
  {
   "cell_type": "code",
   "execution_count": 1,
   "id": "cb32dcbb",
   "metadata": {},
   "outputs": [],
   "source": [
    "import cv2"
   ]
  },
  {
   "cell_type": "code",
   "execution_count": 2,
   "id": "de5c82ae",
   "metadata": {},
   "outputs": [],
   "source": [
    "import numpy as np"
   ]
  },
  {
   "cell_type": "code",
   "execution_count": 3,
   "id": "7fcf7e25",
   "metadata": {},
   "outputs": [],
   "source": [
    "im1=cv2.imread(\"C:/Users/admin/Downloads/BTS V.jpg\")\n",
    "im2=cv2.imread(\"C:/Users/admin/Downloads/d2.jpg\")\n",
    "im3=cv2.resize(im1,(300,300))\n",
    "im4=cv2.resize(im2,(300,300))"
   ]
  },
  {
   "cell_type": "code",
   "execution_count": 4,
   "id": "3ba00120",
   "metadata": {},
   "outputs": [
    {
     "data": {
      "text/plain": [
       "(1427, 800, 3)"
      ]
     },
     "execution_count": 4,
     "metadata": {},
     "output_type": "execute_result"
    }
   ],
   "source": [
    "im1.shape"
   ]
  },
  {
   "cell_type": "code",
   "execution_count": 5,
   "id": "3b73b482",
   "metadata": {},
   "outputs": [],
   "source": [
    "cv2.imshow(\"im3\",im3)\n",
    "cv2.imshow(\"im4\",im4)\n",
    "cv2.waitKey(0)\n",
    "cv2.destroyAllWindows()"
   ]
  },
  {
   "cell_type": "code",
   "execution_count": 6,
   "id": "05903872",
   "metadata": {},
   "outputs": [],
   "source": [
    "im_blend=cv2.addWeighted(im3,0.4,im4,0.7,0)"
   ]
  },
  {
   "cell_type": "code",
   "execution_count": 7,
   "id": "df8086bb",
   "metadata": {},
   "outputs": [],
   "source": [
    "\n",
    "cv2.imshow(\"Blended\",im_blend)\n",
    "cv2.waitKey(0)\n",
    "cv2.destroyAllWindows()"
   ]
  },
  {
   "cell_type": "code",
   "execution_count": 8,
   "id": "db405d8b",
   "metadata": {},
   "outputs": [],
   "source": [
    "#image subtraction\n",
    "imsub=cv2.subtract(im3,im4)"
   ]
  },
  {
   "cell_type": "code",
   "execution_count": 9,
   "id": "7d7c98b4",
   "metadata": {},
   "outputs": [],
   "source": [
    "cv2.imshow(\"sub\",imsub)\n",
    "cv2.waitKey(0)\n",
    "cv2.destroyAllWindows()"
   ]
  },
  {
   "cell_type": "code",
   "execution_count": 10,
   "id": "444d8592",
   "metadata": {},
   "outputs": [],
   "source": [
    "AND=cv2.bitwise_and(im3,im4)\n",
    "OR=cv2.bitwise_or(im3,im4)\n",
    "NOT=cv2.bitwise_not(im3,im4)\n",
    "XOR=cv2.bitwise_xor(im3,im4)\n"
   ]
  },
  {
   "cell_type": "code",
   "execution_count": 11,
   "id": "261d24a6",
   "metadata": {},
   "outputs": [],
   "source": [
    "cv2.imshow(\"and\",AND)\n",
    "cv2.waitKey(0)\n",
    "cv2.imshow(\"or\",OR)\n",
    "cv2.waitKey(0)\n",
    "cv2.imshow(\"not\",NOT)\n",
    "cv2.waitKey(0)\n",
    "cv2.imshow(\"xor\",XOR)\n",
    "cv2.waitKey(0)\n",
    "cv2.destroyAllWindows()"
   ]
  },
  {
   "cell_type": "code",
   "execution_count": 16,
   "id": "fa10abbe",
   "metadata": {},
   "outputs": [],
   "source": [
    "# ROI - Region Of Interest\n",
    "roi=im1[100:710]"
   ]
  },
  {
   "cell_type": "code",
   "execution_count": 17,
   "id": "0c682fe8",
   "metadata": {},
   "outputs": [],
   "source": [
    "cv2.imshow(\"roi\",roi)\n",
    "cv2.waitKey(0)\n",
    "cv2.destroyAllWindows()"
   ]
  },
  {
   "cell_type": "code",
   "execution_count": null,
   "id": "782f8084",
   "metadata": {},
   "outputs": [],
   "source": []
  }
 ],
 "metadata": {
  "kernelspec": {
   "display_name": "Python 3 (ipykernel)",
   "language": "python",
   "name": "python3"
  },
  "language_info": {
   "codemirror_mode": {
    "name": "ipython",
    "version": 3
   },
   "file_extension": ".py",
   "mimetype": "text/x-python",
   "name": "python",
   "nbconvert_exporter": "python",
   "pygments_lexer": "ipython3",
   "version": "3.11.5"
  }
 },
 "nbformat": 4,
 "nbformat_minor": 5
}
