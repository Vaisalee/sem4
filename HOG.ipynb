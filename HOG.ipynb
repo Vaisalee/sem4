{
 "cells": [
  {
   "cell_type": "markdown",
   "id": "dc8787d3",
   "metadata": {},
   "source": [
    "# Install imutils"
   ]
  },
  {
   "cell_type": "code",
   "execution_count": 1,
   "id": "eeb75644",
   "metadata": {},
   "outputs": [
    {
     "name": "stdout",
     "output_type": "stream",
     "text": [
      "Collecting imutils\n",
      "  Downloading imutils-0.5.4.tar.gz (17 kB)\n",
      "  Preparing metadata (setup.py): started\n",
      "  Preparing metadata (setup.py): finished with status 'done'\n",
      "Building wheels for collected packages: imutils\n",
      "  Building wheel for imutils (setup.py): started\n",
      "  Building wheel for imutils (setup.py): finished with status 'done'\n",
      "  Created wheel for imutils: filename=imutils-0.5.4-py3-none-any.whl size=25855 sha256=59b2e589b80c5fab06706ea7251b57d8c2c58b86bfe01ad93354bf36f5ed45e6\n",
      "  Stored in directory: c:\\users\\admin\\appdata\\local\\pip\\cache\\wheels\\31\\d0\\2c\\87ce38f6052879e5b7b18f0f8b4a10ad2a9d210e908d449f16\n",
      "Successfully built imutils\n",
      "Installing collected packages: imutils\n",
      "Successfully installed imutils-0.5.4\n",
      "Note: you may need to restart the kernel to use updated packages.\n"
     ]
    }
   ],
   "source": [
    "pip install imutils"
   ]
  },
  {
   "cell_type": "code",
   "execution_count": 2,
   "id": "9cb02c4f",
   "metadata": {},
   "outputs": [],
   "source": [
    "import cv2\n",
    "import imutils"
   ]
  },
  {
   "cell_type": "markdown",
   "id": "b4228373",
   "metadata": {},
   "source": [
    "# Initializing the HOG person detector"
   ]
  },
  {
   "cell_type": "code",
   "execution_count": 3,
   "id": "c9e37a4f",
   "metadata": {},
   "outputs": [
    {
     "data": {
      "text/plain": [
       "< cv2.HOGDescriptor 0000013440CCB490>"
      ]
     },
     "execution_count": 3,
     "metadata": {},
     "output_type": "execute_result"
    }
   ],
   "source": [
    "hog=cv2.HOGDescriptor()\n",
    "hog.setSVMDetector(cv2.HOGDescriptor_getDefaultPeopleDetector())\n",
    "hog"
   ]
  },
  {
   "cell_type": "code",
   "execution_count": 4,
   "id": "7c527efc",
   "metadata": {},
   "outputs": [
    {
     "data": {
      "text/plain": [
       "(180, 231, 3)"
      ]
     },
     "execution_count": 4,
     "metadata": {},
     "output_type": "execute_result"
    }
   ],
   "source": [
    "image=cv2.imread(\"C:/Users/admin/Downloads/group.jpg\")\n",
    "image.shape"
   ]
  },
  {
   "cell_type": "markdown",
   "id": "bfb6885f",
   "metadata": {},
   "source": [
    "# resizing the image"
   ]
  },
  {
   "cell_type": "code",
   "execution_count": 6,
   "id": "285f3fd2",
   "metadata": {},
   "outputs": [
    {
     "data": {
      "text/plain": [
       "(180, 231, 3)"
      ]
     },
     "execution_count": 6,
     "metadata": {},
     "output_type": "execute_result"
    }
   ],
   "source": [
    "image=imutils.resize(image,width=min(400,image.shape[1]))\n",
    "image.shape"
   ]
  },
  {
   "cell_type": "code",
   "execution_count": 9,
   "id": "671bd1d8",
   "metadata": {},
   "outputs": [
    {
     "data": {
      "text/plain": [
       "array([[ 32,  12,  78, 156],\n",
       "       [157,  29,  74, 151],\n",
       "       [  0,  18,  62, 142],\n",
       "       [121,  26,  75, 149]])"
      ]
     },
     "execution_count": 9,
     "metadata": {},
     "output_type": "execute_result"
    }
   ],
   "source": [
    "(regions,img)=hog.detectMultiScale(image,winStride=(1,1),\n",
    "                                   padding=(40,40),scale=1.05)\n",
    "regions"
   ]
  },
  {
   "cell_type": "code",
   "execution_count": 10,
   "id": "94d31556",
   "metadata": {},
   "outputs": [],
   "source": [
    "for (x,y,w,h)in regions:\n",
    "    cv2.rectangle(image,(x,y),(x+w,y+h),(0,255,0),3)"
   ]
  },
  {
   "cell_type": "code",
   "execution_count": 11,
   "id": "1a90c860",
   "metadata": {},
   "outputs": [],
   "source": [
    "cv2.imshow(\"Image\",image)\n",
    "cv2.waitKey(0)\n",
    "cv2.destroyAllWindows()"
   ]
  },
  {
   "cell_type": "code",
   "execution_count": null,
   "id": "52fac6af",
   "metadata": {},
   "outputs": [],
   "source": []
  }
 ],
 "metadata": {
  "kernelspec": {
   "display_name": "Python 3 (ipykernel)",
   "language": "python",
   "name": "python3"
  },
  "language_info": {
   "codemirror_mode": {
    "name": "ipython",
    "version": 3
   },
   "file_extension": ".py",
   "mimetype": "text/x-python",
   "name": "python",
   "nbconvert_exporter": "python",
   "pygments_lexer": "ipython3",
   "version": "3.11.5"
  }
 },
 "nbformat": 4,
 "nbformat_minor": 5
}
