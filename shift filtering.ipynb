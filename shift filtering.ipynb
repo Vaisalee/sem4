{
 "cells": [
  {
   "cell_type": "code",
   "execution_count": 1,
   "id": "7e49c83e",
   "metadata": {},
   "outputs": [],
   "source": [
    "import cv2\n",
    "import numpy as np"
   ]
  },
  {
   "cell_type": "code",
   "execution_count": 2,
   "id": "0ed9a898",
   "metadata": {},
   "outputs": [],
   "source": [
    "image=cv2.imread(\"C:/Users/admin/Downloads/cat.jpg\")"
   ]
  },
  {
   "cell_type": "code",
   "execution_count": 3,
   "id": "d442e28d",
   "metadata": {},
   "outputs": [],
   "source": [
    "segmented_image=cv2.pyrMeanShiftFiltering(image,40,40)"
   ]
  },
  {
   "cell_type": "code",
   "execution_count": 4,
   "id": "844690d4",
   "metadata": {},
   "outputs": [],
   "source": [
    "cv2.imshow('original_Image',image)\n",
    "cv2.imshow('segmented_image',segmented_image)\n",
    "cv2.waitKey(0)\n",
    "cv2.destroyAllWindows()"
   ]
  },
  {
   "cell_type": "code",
   "execution_count": null,
   "id": "0fa88fee",
   "metadata": {},
   "outputs": [],
   "source": []
  }
 ],
 "metadata": {
  "kernelspec": {
   "display_name": "Python 3 (ipykernel)",
   "language": "python",
   "name": "python3"
  },
  "language_info": {
   "codemirror_mode": {
    "name": "ipython",
    "version": 3
   },
   "file_extension": ".py",
   "mimetype": "text/x-python",
   "name": "python",
   "nbconvert_exporter": "python",
   "pygments_lexer": "ipython3",
   "version": "3.11.5"
  }
 },
 "nbformat": 4,
 "nbformat_minor": 5
}
